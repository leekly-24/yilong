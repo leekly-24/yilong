{
 "cells": [
  {
   "cell_type": "code",
   "execution_count": 1,
   "metadata": {},
   "outputs": [],
   "source": [
    "#讀入套件\n",
    "import matplotlib.pyplot as plt\n",
    "import numpy as np\n",
    "from tensorflow.keras.models import Sequential\n",
    "from tensorflow.keras.layers import Dense\n",
    "from tensorflow.keras.layers import Flatten\n",
    "from tensorflow.keras.layers import Conv2D, MaxPool2D, GlobalAveragePooling2D\n",
    "from tensorflow.keras.optimizers import SGD, Adam\n",
    "from tensorflow.keras import datasets\n",
    "from tensorflow.keras.utils import to_categorical"
   ]
  },
  {
   "cell_type": "code",
   "execution_count": 15,
   "metadata": {},
   "outputs": [],
   "source": [
    "#讀入fashion_mnist數據集\n",
    "from tensorflow.keras.datasets import fashion_mnist\n",
    "(x_train, y_train), (x_test, y_test) = fashion_mnist.load_data()\n",
    "class_names = ['T-shirt/top', 'Trouser', 'Pullover', 'Dress', 'Coat',\n",
    "               'Sandal', 'Shirt', 'Sneaker', 'Bag', 'Ankle boot']\n"
   ]
  },
  {
   "cell_type": "code",
   "execution_count": 16,
   "metadata": {},
   "outputs": [
    {
     "name": "stdout",
     "output_type": "stream",
     "text": [
      "這是 Ankle boot\n"
     ]
    },
    {
     "data": {
      "image/png": "[encoded data removed]",
      "text/plain": [
       "<Figure size 432x288 with 1 Axes>"
      ]
     },
     "metadata": {
      "needs_background": "light"
     },
     "output_type": "display_data"
    }
   ],
   "source": [
    "#觀察數據集\n",
    "n = 107\n",
    "print('這是', class_names[y_train[n]])\n",
    "plt.imshow(x_train[n],cmap='Blues');"
   ]
  },
  {
   "cell_type": "code",
   "execution_count": 17,
   "metadata": {},
   "outputs": [],
   "source": [
    "#數據集整理\n",
    "x_train=x_train/255\n",
    "x_test=x_test/255\n",
    "x_train=x_train.reshape(60000,28,28,1)\n",
    "x_test=x_test.reshape(10000,28,28,1)\n",
    "\n",
    "y_train=to_categorical(y_train,10)\n",
    "y_test=to_categorical(y_train,10)"
   ]
  },
  {
   "cell_type": "code",
   "execution_count": 18,
   "metadata": {},
   "outputs": [],
   "source": [
    "#建立cnn層與fc層\n",
    "CNN_layers = [Conv2D(20, (3, 3), padding = 'same', input_shape = (28, 28, 1), activation = 'relu'),\n",
    "             MaxPool2D(pool_size = (2, 2)),\n",
    "             Conv2D(48, (3, 3), padding = 'same', activation = 'relu'),\n",
    "             MaxPool2D(pool_size = (2, 2)),\n",
    "             Conv2D(82, (3, 3), padding = 'same', activation = 'relu'),\n",
    "             MaxPool2D(pool_size = (2, 2))]\n",
    "\n",
    "FC_layers = [Flatten(),\n",
    "            Dense(60, activation = 'relu'),\n",
    "            Dense(10, activation = 'softmax')]"
   ]
  },
  {
   "cell_type": "code",
   "execution_count": 19,
   "metadata": {},
   "outputs": [
    {
     "name": "stdout",
     "output_type": "stream",
     "text": [
      "Model: \"sequential_2\"\n",
      "_________________________________________________________________\n",
      "Layer (type)                 Output Shape              Param #   \n",
      "=================================================================\n",
      "conv2d_6 (Conv2D)            (None, 28, 28, 20)        200       \n",
      "_________________________________________________________________\n",
      "max_pooling2d_6 (MaxPooling2 (None, 14, 14, 20)        0         \n",
      "_________________________________________________________________\n",
      "conv2d_7 (Conv2D)            (None, 14, 14, 48)        8688      \n",
      "_________________________________________________________________\n",
      "max_pooling2d_7 (MaxPooling2 (None, 7, 7, 48)          0         \n",
      "_________________________________________________________________\n",
      "conv2d_8 (Conv2D)            (None, 7, 7, 82)          35506     \n",
      "_________________________________________________________________\n",
      "max_pooling2d_8 (MaxPooling2 (None, 3, 3, 82)          0         \n",
      "_________________________________________________________________\n",
      "flatten_2 (Flatten)          (None, 738)               0         \n",
      "_________________________________________________________________\n",
      "dense_4 (Dense)              (None, 60)                44340     \n",
      "_________________________________________________________________\n",
      "dense_5 (Dense)              (None, 10)                610       \n",
      "=================================================================\n",
      "Total params: 89,344\n",
      "Trainable params: 89,344\n",
      "Non-trainable params: 0\n",
      "_________________________________________________________________\n"
     ]
    }
   ],
   "source": [
    "#建立model1\n",
    "model1 = Sequential(CNN_layers + FC_layers)\n",
    "model1.summary()"
   ]
  },
  {
   "cell_type": "code",
   "execution_count": 20,
   "metadata": {},
   "outputs": [
    {
     "name": "stdout",
     "output_type": "stream",
     "text": [
      "Train on 60000 samples\n",
      "Epoch 1/9\n",
      "60000/60000 [==============================] - 246s 4ms/sample - loss: 0.0897 - accuracy: 0.1014\n",
      "Epoch 2/9\n",
      "60000/60000 [==============================] - 225s 4ms/sample - loss: 0.0892 - accuracy: 0.1326\n",
      "Epoch 3/9\n",
      "60000/60000 [==============================] - 198s 3ms/sample - loss: 0.0884 - accuracy: 0.1764\n",
      "Epoch 4/9\n",
      "60000/60000 [==============================] - 195s 3ms/sample - loss: 0.0868 - accuracy: 0.2485\n",
      "Epoch 5/9\n",
      "60000/60000 [==============================] - 194s 3ms/sample - loss: 0.0814 - accuracy: 0.3844\n",
      "Epoch 6/9\n",
      "60000/60000 [==============================] - 193s 3ms/sample - loss: 0.0646 - accuracy: 0.5336\n",
      "Epoch 7/9\n",
      "60000/60000 [==============================] - 191s 3ms/sample - loss: 0.0498 - accuracy: 0.6342\n",
      "Epoch 8/9\n",
      "60000/60000 [==============================] - 192s 3ms/sample - loss: 0.0424 - accuracy: 0.6923\n",
      "Epoch 9/9\n",
      "60000/60000 [==============================] - 220s 4ms/sample - loss: 0.0391 - accuracy: 0.7178\n"
     ]
    },
    {
     "data": {
      "text/plain": [
       "<tensorflow.python.keras.callbacks.History at 0x129169ec608>"
      ]
     },
     "execution_count": 20,
     "metadata": {},
     "output_type": "execute_result"
    }
   ],
   "source": [
    "#訓練model1\n",
    "model1.compile(loss = 'mse', optimizer = SGD(lr = 0.025), metrics = ['accuracy'])\n",
    "model1.fit(x_train,y_train,batch_size=87,epochs=9)"
   ]
  },
  {
   "cell_type": "code",
   "execution_count": 22,
   "metadata": {},
   "outputs": [
    {
     "name": "stdout",
     "output_type": "stream",
     "text": [
      "60000/60000 [==============================] - 131s 2ms/sample - loss: 0.0393 - accuracy: 0.7098\n"
     ]
    }
   ],
   "source": [
    "#觀察準確率\n",
    "train_score = model1.evaluate(x_train, y_train)\n"
   ]
  },
  {
   "cell_type": "code",
   "execution_count": 24,
   "metadata": {},
   "outputs": [],
   "source": [
    "#讀入mnist數據集並整理\n",
    "from tensorflow.keras.datasets import mnist\n",
    "(x_train, y_train), (x_test, y_test) = mnist.load_data()\n",
    "\n",
    "x_train = x_train.reshape(60000, 28, 28, 1) / 255\n",
    "x_test = x_test.reshape(10000, 28, 28, 1) / 255\n",
    "\n",
    "y_train = to_categorical(y_train, 10)\n",
    "y_test = to_categorical(y_test, 10)"
   ]
  },
  {
   "cell_type": "code",
   "execution_count": 25,
   "metadata": {},
   "outputs": [],
   "source": [
    "#建立新的fc層加入新模型\n",
    "FC_layers2 = [Flatten(),\n",
    "                Dense(87, activation = 'relu'),\n",
    "                Dense(50, activation = 'relu'),\n",
    "                Dense(10, activation = 'softmax')]\n",
    "\n",
    "model2 = Sequential(CNN_layers + FC_layers2)"
   ]
  },
  {
   "cell_type": "code",
   "execution_count": 26,
   "metadata": {},
   "outputs": [
    {
     "name": "stdout",
     "output_type": "stream",
     "text": [
      "Model: \"sequential_3\"\n",
      "_________________________________________________________________\n",
      "Layer (type)                 Output Shape              Param #   \n",
      "=================================================================\n",
      "conv2d_6 (Conv2D)            (None, 28, 28, 20)        200       \n",
      "_________________________________________________________________\n",
      "max_pooling2d_6 (MaxPooling2 (None, 14, 14, 20)        0         \n",
      "_________________________________________________________________\n",
      "conv2d_7 (Conv2D)            (None, 14, 14, 48)        8688      \n",
      "_________________________________________________________________\n",
      "max_pooling2d_7 (MaxPooling2 (None, 7, 7, 48)          0         \n",
      "_________________________________________________________________\n",
      "conv2d_8 (Conv2D)            (None, 7, 7, 82)          35506     \n",
      "_________________________________________________________________\n",
      "max_pooling2d_8 (MaxPooling2 (None, 3, 3, 82)          0         \n",
      "_________________________________________________________________\n",
      "flatten_3 (Flatten)          (None, 738)               0         \n",
      "_________________________________________________________________\n",
      "dense_6 (Dense)              (None, 87)                64293     \n",
      "_________________________________________________________________\n",
      "dense_7 (Dense)              (None, 50)                4400      \n",
      "_________________________________________________________________\n",
      "dense_8 (Dense)              (None, 10)                510       \n",
      "=================================================================\n",
      "Total params: 113,597\n",
      "Trainable params: 69,203\n",
      "Non-trainable params: 44,394\n",
      "_________________________________________________________________\n"
     ]
    }
   ],
   "source": [
    "#forzen原cnn層\n",
    "for layer in CNN_layers:\n",
    "    layer.trainable = False\n",
    "    \n",
    "model2.summary()"
   ]
  },
  {
   "cell_type": "code",
   "execution_count": 28,
   "metadata": {},
   "outputs": [
    {
     "name": "stdout",
     "output_type": "stream",
     "text": [
      "Train on 60000 samples\n",
      "Epoch 1/5\n",
      "60000/60000 [==============================] - 114s 2ms/sample - loss: 0.0766 - accuracy: 0.3978\n",
      "Epoch 2/5\n",
      "60000/60000 [==============================] - 112s 2ms/sample - loss: 0.0573 - accuracy: 0.6149\n",
      "Epoch 3/5\n",
      "60000/60000 [==============================] - 110s 2ms/sample - loss: 0.0469 - accuracy: 0.6870\n",
      "Epoch 4/5\n",
      "60000/60000 [==============================] - 140s 2ms/sample - loss: 0.0386 - accuracy: 0.7576\n",
      "Epoch 5/5\n",
      "60000/60000 [==============================] - 141s 2ms/sample - loss: 0.0326 - accuracy: 0.8051\n"
     ]
    },
    {
     "data": {
      "text/plain": [
       "<tensorflow.python.keras.callbacks.History at 0x1295bcb50c8>"
      ]
     },
     "execution_count": 28,
     "metadata": {},
     "output_type": "execute_result"
    }
   ],
   "source": [
    "model2.compile(loss = 'mse', optimizer = SGD(lr = 0.025), metrics = ['accuracy'])\n",
    "model2.fit(x_train, y_train, batch_size = 87, epochs = 5)"
   ]
  },
  {
   "cell_type": "code",
   "execution_count": null,
   "metadata": {},
   "outputs": [],
   "source": []
  }
 ],
 "metadata": {
  "kernelspec": {
   "display_name": "Python 3",
   "language": "python",
   "name": "python3"
  },
  "language_info": {
   "codemirror_mode": {
    "name": "ipython",
    "version": 3
   },
   "file_extension": ".py",
   "mimetype": "text/x-python",
   "name": "python",
   "nbconvert_exporter": "python",
   "pygments_lexer": "ipython3",
   "version": "3.7.4"
  }
 },
 "nbformat": 4,
 "nbformat_minor": 4
}
