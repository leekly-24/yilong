{
 "cells": [
  {
   "cell_type": "markdown",
   "metadata": {},
   "source": [
    "## 60歐元免運 未達60歐付5歐  消費3000台幣會被抽10%稅"
   ]
  },
  {
   "cell_type": "code",
   "execution_count": 4,
   "metadata": {},
   "outputs": [
    {
     "name": "stdout",
     "output_type": "stream",
     "text": [
      "輸入商品金額(歐元):60\n",
      "您目前消費了 60 歐元,為 2002 台幣\n",
      "您目前已達免運條件\n",
      "您目前不會被海關抽稅\n",
      "您最終需要支付 2002.8000000000002 台幣\n"
     ]
    }
   ],
   "source": [
    "e=int(input(\"輸入商品金額(歐元):\"))\n",
    "n=e*33.38\n",
    "print(\"您目前消費了\",e,\"歐元,為\",int(n),\"台幣\")\n",
    "if e>=60:\n",
    "    print('您目前已達免運條件')\n",
    "else:print ('您目前不足',(60-e),'歐元免運條件')\n",
    "if n>3000:\n",
    "    print('您目前會被海關抽稅')\n",
    "else:print('您目前不會被海關抽稅')\n",
    "if n>3000:\n",
    "    print('您最終需要支付',int(n*1.1),'台幣')\n",
    "else:print('您最終需要支付',(n),'台幣')\n"
   ]
  },
  {
   "cell_type": "code",
   "execution_count": 2,
   "metadata": {},
   "outputs": [
    {
     "name": "stdout",
     "output_type": "stream",
     "text": [
      "輸入商品金額(歐元):59\n",
      "您目前消費了 59 歐元,為 1969 台幣\n",
      "您目前不足 1 歐元免運條件\n",
      "您目前不會被海關抽稅\n",
      "您最終需要支付 1969.42 台幣\n"
     ]
    }
   ],
   "source": [
    "e=int(input(\"輸入商品金額(歐元):\"))\n",
    "n=e*33.38\n",
    "print(\"您目前消費了\",e,\"歐元,為\",int(n),\"台幣\")\n",
    "if e>=60:\n",
    "    print('您目前已達免運條件')\n",
    "else:print ('您目前不足',(60-e),'歐元免運條件')\n",
    "if n>3000:\n",
    "    print('您目前會被海關抽稅')\n",
    "else:print('您目前不會被海關抽稅')\n",
    "if n>3000:\n",
    "    print('您最終需要支付',int(n*1.1),'台幣')\n",
    "else:print('您最終需要支付',(n),'台幣')\n"
   ]
  },
  {
   "cell_type": "code",
   "execution_count": 3,
   "metadata": {},
   "outputs": [
    {
     "name": "stdout",
     "output_type": "stream",
     "text": [
      "輸入商品金額(歐元):100\n",
      "您目前消費了 100 歐元,為 3338 台幣\n",
      "您目前已達免運條件\n",
      "您目前會被海關抽稅\n",
      "您最終需要支付 3671 台幣\n"
     ]
    }
   ],
   "source": [
    "e=int(input(\"輸入商品金額(歐元):\"))\n",
    "n=e*33.38\n",
    "print(\"您目前消費了\",e,\"歐元,為\",int(n),\"台幣\")\n",
    "if e>=60:\n",
    "    print('您目前已達免運條件')\n",
    "else:print ('您目前不足',(60-e),'歐元免運條件')\n",
    "if n>3000:\n",
    "    print('您目前會被海關抽稅')\n",
    "else:print('您目前不會被海關抽稅')\n",
    "if n>3000:\n",
    "    print('您最終需要支付',int(n*1.1),'台幣')\n",
    "else:print('您最終需要支付',(n),'台幣')\n"
   ]
  },
  {
   "cell_type": "code",
   "execution_count": null,
   "metadata": {},
   "outputs": [],
   "source": []
  }
 ],
 "metadata": {
  "kernelspec": {
   "display_name": "Python 3",
   "language": "python",
   "name": "python3"
  },
  "language_info": {
   "codemirror_mode": {
    "name": "ipython",
    "version": 3
   },
   "file_extension": ".py",
   "mimetype": "text/x-python",
   "name": "python",
   "nbconvert_exporter": "python",
   "pygments_lexer": "ipython3",
   "version": "3.7.4"
  }
 },
 "nbformat": 4,
 "nbformat_minor": 4
}
