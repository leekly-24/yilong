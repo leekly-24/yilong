{
 "cells": [
  {
   "cell_type": "code",
   "execution_count": 4,
   "metadata": {},
   "outputs": [
    {
     "name": "stdout",
     "output_type": "stream",
     "text": [
      "請輸入本金:10000\n",
      "請輸入期數:10\n",
      "請輸入利率:0.1\n",
      "計算複利輸入1，計算年金終值請輸入2:2\n",
      "年金終值f= 159374.2460100001\n"
     ]
    }
   ],
   "source": [
    "b=float(input(\"請輸入本金:\"))\n",
    "n=int(input(\"請輸入期數:\"))\n",
    "y=float(input(\"請輸入利率:\"))\n",
    "d=input(\"計算複利輸入1，計算年金終值請輸入2:\")\n",
    "if d=='1':\n",
    "    x=1\n",
    "    for i in range(1,n+1):\n",
    "        x=x*(1+y)\n",
    "    f=b*x\n",
    "    print(\"複利f=\",f)\n",
    "elif d==\"2\":\n",
    "    f=b*(1-(1+y)**n)/(1-(1+y))\n",
    "    print(\"年金終值f=\",f)"
   ]
  },
  {
   "cell_type": "code",
   "execution_count": null,
   "metadata": {},
   "outputs": [],
   "source": []
  }
 ],
 "metadata": {
  "kernelspec": {
   "display_name": "Python 3",
   "language": "python",
   "name": "python3"
  },
  "language_info": {
   "codemirror_mode": {
    "name": "ipython",
    "version": 3
   },
   "file_extension": ".py",
   "mimetype": "text/x-python",
   "name": "python",
   "nbconvert_exporter": "python",
   "pygments_lexer": "ipython3",
   "version": "3.7.4"
  }
 },
 "nbformat": 4,
 "nbformat_minor": 4
}
