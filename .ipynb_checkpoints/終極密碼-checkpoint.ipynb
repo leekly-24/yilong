{
 "cells": [
  {
   "cell_type": "code",
   "execution_count": 2,
   "metadata": {},
   "outputs": [],
   "source": [
    "%matplotlib inline\n",
    "import numpy as np"
   ]
  },
  {
   "cell_type": "code",
   "execution_count": 4,
   "metadata": {},
   "outputs": [
    {
     "name": "stdout",
     "output_type": "stream",
     "text": [
      "設定一個數字區間來開始終極密碼吧！\n",
      "開始數:10\n",
      "結尾數:0\n",
      "開始一定要小於結尾喔！\n",
      "開始數:1\n",
      "結尾數:1\n",
      "起點終點一樣是要玩個毛線？\n",
      "開始數:1\n",
      "結尾數:30\n",
      "遊戲開始，猜一個1到30之間的整數吧\n",
      "32\n",
      "你是不是看不懂中文....就跟你說要輸入1到30的整數\n",
      "20\n",
      "請輸入21到30的整數\n",
      "29\n",
      "請輸入21到28的整數\n",
      "25\n",
      "請輸入21到24的整數\n",
      "13\n",
      "你是不是看不懂中文....就跟你說要輸入21到24的整數\n",
      "23\n",
      "請輸入21到22的整數\n",
      "22\n",
      "請輸入21到21的整數\n",
      "21\n",
      "boom！爆炸惹，可憐哪！\n"
     ]
    }
   ],
   "source": [
    "print(\"設定一個數字區間來開始終極密碼吧！\")\n",
    "a=1\n",
    "b=0\n",
    "while float(a)>=float(b):\n",
    "    a=input(\"開始數:\")\n",
    "    b=input(\"結尾數:\")\n",
    "    if float(a)>float(b):\n",
    "        print(\"開始一定要小於結尾喔！\")\n",
    "    elif float(a)==float(b):\n",
    "        print(\"起點終點一樣是要玩個毛線？\")\n",
    "x=np.random.randint(float(a),float(b)+1)\n",
    "print(\"遊戲開始，猜一個\"+a+\"到\"+b+\"之間的整數吧\")\n",
    "ans=0.1\n",
    "while float(ans)!=x:\n",
    "    ans=input(\"\")\n",
    "    if int(a)<= int(ans) and int(b)>= int(ans):\n",
    "        if float(ans)>x:\n",
    "            b=int(ans)-1\n",
    "            print(\"請輸入\"+str(a)+\"到\"+str(b)+\"的整數\")\n",
    "        elif float(ans)<x:\n",
    "            a=int(ans)+1\n",
    "            print(\"請輸入\"+str(a)+\"到\"+str(b)+\"的整數\")\n",
    "        elif float(ans)==x:\n",
    "            print(\"boom！爆炸惹，可憐哪！\")\n",
    "    else:\n",
    "        print(\"你是不是看不懂中文....就跟你說要輸入\"+str(a)+\"到\"+str(b)+\"的整數\")\n",
    "        \n",
    "        "
   ]
  }
 ],
 "metadata": {
  "kernelspec": {
   "display_name": "Python 3",
   "language": "python",
   "name": "python3"
  },
  "language_info": {
   "codemirror_mode": {
    "name": "ipython",
    "version": 3
   },
   "file_extension": ".py",
   "mimetype": "text/x-python",
   "name": "python",
   "nbconvert_exporter": "python",
   "pygments_lexer": "ipython3",
   "version": "3.7.4"
  }
 },
 "nbformat": 4,
 "nbformat_minor": 2
}
