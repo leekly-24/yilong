{
 "cells": [
  {
   "cell_type": "code",
   "execution_count": 2,
   "metadata": {},
   "outputs": [],
   "source": [
    "%matplotlib inline\n",
    "import numpy as np"
   ]
  },
  {
   "cell_type": "code",
   "execution_count": 3,
   "metadata": {},
   "outputs": [
    {
     "name": "stdout",
     "output_type": "stream",
     "text": [
      "請問9乘以6等於多少呢?\n",
      "544\n",
      "結束了，這麼簡單也不會？還是不小心打錯了呢？\n",
      "54\n",
      "恭喜答對！你的程度已經達到國小三年級了喔！太令人欣慰惹！\n"
     ]
    }
   ],
   "source": [
    "a=np.random.randint(1,10)\n",
    "b=np.random.randint(1,10)\n",
    "ans=a*b\n",
    "x=0\n",
    "print(\"請問\"+str(a)+\"乘以\"+str(b)+\"等於多少呢?\")\n",
    "while float(x) != ans:\n",
    "    x=input(\"\")\n",
    "    if float(x)<ans or float(x)>ans:\n",
    "        print(\"結束了，這麼簡單也不會？還是不小心打錯了呢？\")\n",
    "    elif float(x)==ans:\n",
    "        print(\"恭喜答對！你的程度已經達到國小三年級了喔！太令人欣慰惹！\")\n"
   ]
  },
  {
   "cell_type": "code",
   "execution_count": null,
   "metadata": {},
   "outputs": [],
   "source": []
  }
 ],
 "metadata": {
  "kernelspec": {
   "display_name": "Python 3",
   "language": "python",
   "name": "python3"
  }
 },
 "nbformat": 4,
 "nbformat_minor": 2
}
