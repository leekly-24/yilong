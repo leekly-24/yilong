{
 "cells": [
  {
   "cell_type": "code",
   "execution_count": 6,
   "metadata": {},
   "outputs": [],
   "source": [
    "import numpy as np\n",
    "import pandas as pd\n",
    "\n",
    "import requests\n",
    "from bs4 import BeautifulSoup"
   ]
  },
  {
   "cell_type": "code",
   "execution_count": 7,
   "metadata": {},
   "outputs": [],
   "source": [
    "def get_web_page(url):\n",
    "    resp = requests.get(url)\n",
    "    resp.encoding = 'utf-8'\n",
    "    \n",
    "    if resp.status_code != 200:\n",
    "        print('Invalid url:', resp.url)\n",
    "        return None\n",
    "    else:\n",
    "        return resp.text"
   ]
  },
  {
   "cell_type": "code",
   "execution_count": null,
   "metadata": {},
   "outputs": [],
   "source": [
    "    if __name__ == \"__main__\":\n",
    "        url='https://www.vgchartz.com/games/games.php?page&results=57652&name=&console=&keyword=&publisher=&genre=&order=CriticScore&ownership=Both&boxart=Both&banner=Both&showdeleted=&region=All&goty_year=&developer=&direction=DESC&showtotalsales=0&shownasales=0&showpalsales=0&showjapansales=0&showothersales=0&showpublisher=1&showdeveloper=0&showreleasedate=1&showlastupdate=1&showvgchartzscore=1&showcriticscore=1&showuserscore=1&showshipped=1&alphasort=&showmultiplat=No.html'\n",
    "        rate_df = pd.read_html(url)[7] # 7 refers to the table index of this page\n",
    "        rate_page = get_web_page(url)\n",
    "        soup = BeautifulSoup(rate_page, 'html.parser')\n",
    "        rate_list = soup.find_all('tr')[27:57679] # table rows for storing the rates\n",
    "        odd_trs = soup.find_all('tr', style='background-image:url(../imgs/chartBar_large.gif); height:70px')\n",
    "        even_trs = soup.find_all('tr', style='background-image:url(../imgs/chartBar_alt_large.gif); height:70px')\n",
    "        \n",
    "        games_name= []\n",
    "        VGChartz_Score = []\n",
    "        Critic_Score = []\n",
    "        User_Score = []\n",
    "        \n",
    "        for data in rate_list:\n",
    "            row = data.find_all('td', align='center')\n",
    "            VGChartz_Score.append(row[1].text.strip())\n",
    "            Critic_Score.append(row[2].text.strip())\n",
    "            User_Score.append(row[3].text.strip())\n",
    "            \n",
    "        for i in range(len(odd_trs)):\n",
    "            odd_game_name = odd_trs[i].find('td', style='font-size:12pt;').text.strip()\n",
    "            even_game_name = even_trs[i].find('td', style='font-size:12pt;').text.strip()\n",
    "    \n",
    "            games_name.append(odd_game_name)\n",
    "            games_name.append(even_game_name)     \n",
    "   \n",
    "        rate_df = pd.DataFrame({\n",
    "            'Game_Name': games_name,\n",
    "            'VGChartz_Score': VGChartz_Score,\n",
    "            'Critic_Score': Critic_Score,\n",
    "            'User_Score': User_Score\n",
    "        })"
   ]
  },
  {
   "cell_type": "code",
   "execution_count": 49,
   "metadata": {},
   "outputs": [],
   "source": [
    "outputpath='遊戲評分.xlsx'\n",
    "rate_df.to_excel(outputpath,index=False,header=False)"
   ]
  },
  {
   "cell_type": "code",
   "execution_count": 45,
   "metadata": {},
   "outputs": [
    {
     "data": {
      "text/html": [
       "<div>\n",
       "<style scoped>\n",
       "    .dataframe tbody tr th:only-of-type {\n",
       "        vertical-align: middle;\n",
       "    }\n",
       "\n",
       "    .dataframe tbody tr th {\n",
       "        vertical-align: top;\n",
       "    }\n",
       "\n",
       "    .dataframe thead th {\n",
       "        text-align: right;\n",
       "    }\n",
       "</style>\n",
       "<table border=\"1\" class=\"dataframe\">\n",
       "  <thead>\n",
       "    <tr style=\"text-align: right;\">\n",
       "      <th></th>\n",
       "      <th>Game_Name</th>\n",
       "      <th>VGChartz_Score</th>\n",
       "      <th>Critic_Score</th>\n",
       "      <th>User_Score</th>\n",
       "    </tr>\n",
       "  </thead>\n",
       "  <tbody>\n",
       "    <tr>\n",
       "      <th>0</th>\n",
       "      <td>Final Fantasy II</td>\n",
       "      <td>N/A</td>\n",
       "      <td>10.0</td>\n",
       "      <td>N/A</td>\n",
       "    </tr>\n",
       "    <tr>\n",
       "      <th>1</th>\n",
       "      <td>Final Fight</td>\n",
       "      <td>N/A</td>\n",
       "      <td>10.0</td>\n",
       "      <td>N/A</td>\n",
       "    </tr>\n",
       "    <tr>\n",
       "      <th>2</th>\n",
       "      <td>Forza Horizon 4</td>\n",
       "      <td>N/A</td>\n",
       "      <td>10.0</td>\n",
       "      <td>N/A</td>\n",
       "    </tr>\n",
       "    <tr>\n",
       "      <th>3</th>\n",
       "      <td>Fusion: Genesis</td>\n",
       "      <td>N/A</td>\n",
       "      <td>10.0</td>\n",
       "      <td>N/A</td>\n",
       "    </tr>\n",
       "    <tr>\n",
       "      <th>4</th>\n",
       "      <td>Minecraft</td>\n",
       "      <td>N/A</td>\n",
       "      <td>10.0</td>\n",
       "      <td>N/A</td>\n",
       "    </tr>\n",
       "  </tbody>\n",
       "</table>\n",
       "</div>"
      ],
      "text/plain": [
       "          Game_Name VGChartz_Score Critic_Score User_Score\n",
       "0  Final Fantasy II            N/A         10.0        N/A\n",
       "1       Final Fight            N/A         10.0        N/A\n",
       "2   Forza Horizon 4            N/A         10.0        N/A\n",
       "3   Fusion: Genesis            N/A         10.0        N/A\n",
       "4         Minecraft            N/A         10.0        N/A"
      ]
     },
     "execution_count": 45,
     "metadata": {},
     "output_type": "execute_result"
    }
   ],
   "source": [
    "rate_df.head()"
   ]
  },
  {
   "cell_type": "code",
   "execution_count": 50,
   "metadata": {},
   "outputs": [
    {
     "data": {
      "text/html": [
       "<div>\n",
       "<style scoped>\n",
       "    .dataframe tbody tr th:only-of-type {\n",
       "        vertical-align: middle;\n",
       "    }\n",
       "\n",
       "    .dataframe tbody tr th {\n",
       "        vertical-align: top;\n",
       "    }\n",
       "\n",
       "    .dataframe thead th {\n",
       "        text-align: right;\n",
       "    }\n",
       "</style>\n",
       "<table border=\"1\" class=\"dataframe\">\n",
       "  <thead>\n",
       "    <tr style=\"text-align: right;\">\n",
       "      <th></th>\n",
       "      <th>Final Fantasy II</th>\n",
       "      <th>N/A</th>\n",
       "      <th>10.0</th>\n",
       "      <th>N/A.1</th>\n",
       "    </tr>\n",
       "  </thead>\n",
       "  <tbody>\n",
       "    <tr>\n",
       "      <th>0</th>\n",
       "      <td>Final Fight</td>\n",
       "      <td>NaN</td>\n",
       "      <td>10.0</td>\n",
       "      <td>NaN</td>\n",
       "    </tr>\n",
       "    <tr>\n",
       "      <th>1</th>\n",
       "      <td>Forza Horizon 4</td>\n",
       "      <td>NaN</td>\n",
       "      <td>10.0</td>\n",
       "      <td>NaN</td>\n",
       "    </tr>\n",
       "    <tr>\n",
       "      <th>2</th>\n",
       "      <td>Fusion: Genesis</td>\n",
       "      <td>NaN</td>\n",
       "      <td>10.0</td>\n",
       "      <td>NaN</td>\n",
       "    </tr>\n",
       "    <tr>\n",
       "      <th>3</th>\n",
       "      <td>Minecraft</td>\n",
       "      <td>NaN</td>\n",
       "      <td>10.0</td>\n",
       "      <td>NaN</td>\n",
       "    </tr>\n",
       "    <tr>\n",
       "      <th>4</th>\n",
       "      <td>Red Dead Redemption: Undead Nightmare</td>\n",
       "      <td>NaN</td>\n",
       "      <td>10.0</td>\n",
       "      <td>NaN</td>\n",
       "    </tr>\n",
       "    <tr>\n",
       "      <th>...</th>\n",
       "      <td>...</td>\n",
       "      <td>...</td>\n",
       "      <td>...</td>\n",
       "      <td>...</td>\n",
       "    </tr>\n",
       "    <tr>\n",
       "      <th>244</th>\n",
       "      <td>Pok�mon Gold / Silver Version</td>\n",
       "      <td>NaN</td>\n",
       "      <td>9.2</td>\n",
       "      <td>NaN</td>\n",
       "    </tr>\n",
       "    <tr>\n",
       "      <th>245</th>\n",
       "      <td>Max Payne</td>\n",
       "      <td>NaN</td>\n",
       "      <td>9.2</td>\n",
       "      <td>NaN</td>\n",
       "    </tr>\n",
       "    <tr>\n",
       "      <th>246</th>\n",
       "      <td>Skies of Arcadia</td>\n",
       "      <td>NaN</td>\n",
       "      <td>9.2</td>\n",
       "      <td>NaN</td>\n",
       "    </tr>\n",
       "    <tr>\n",
       "      <th>247</th>\n",
       "      <td>Super Smash Bros. Brawl    Read the review</td>\n",
       "      <td>9.2</td>\n",
       "      <td>9.2</td>\n",
       "      <td>9.7</td>\n",
       "    </tr>\n",
       "    <tr>\n",
       "      <th>248</th>\n",
       "      <td>All-Star Baseball 2001</td>\n",
       "      <td>NaN</td>\n",
       "      <td>9.2</td>\n",
       "      <td>NaN</td>\n",
       "    </tr>\n",
       "  </tbody>\n",
       "</table>\n",
       "<p>249 rows × 4 columns</p>\n",
       "</div>"
      ],
      "text/plain": [
       "                               Final Fantasy II  N/A  10.0  N/A.1\n",
       "0                                   Final Fight  NaN  10.0    NaN\n",
       "1                               Forza Horizon 4  NaN  10.0    NaN\n",
       "2                               Fusion: Genesis  NaN  10.0    NaN\n",
       "3                                     Minecraft  NaN  10.0    NaN\n",
       "4         Red Dead Redemption: Undead Nightmare  NaN  10.0    NaN\n",
       "..                                          ...  ...   ...    ...\n",
       "244               Pok�mon Gold / Silver Version  NaN   9.2    NaN\n",
       "245                                   Max Payne  NaN   9.2    NaN\n",
       "246                            Skies of Arcadia  NaN   9.2    NaN\n",
       "247  Super Smash Bros. Brawl    Read the review  9.2   9.2    9.7\n",
       "248                      All-Star Baseball 2001  NaN   9.2    NaN\n",
       "\n",
       "[249 rows x 4 columns]"
      ]
     },
     "execution_count": 50,
     "metadata": {},
     "output_type": "execute_result"
    }
   ],
   "source": [
    "pd.read_excel('遊戲評分.xlsx')"
   ]
  },
  {
   "cell_type": "code",
   "execution_count": 40,
   "metadata": {},
   "outputs": [],
   "source": []
  },
  {
   "cell_type": "code",
   "execution_count": 41,
   "metadata": {},
   "outputs": [
    {
     "data": {
      "text/plain": [
       "[<td align=\"center\">\n",
       " <img alt=\"PC\" src=\"/images/consoles/PC_b.png\"/>\n",
       " </td>,\n",
       " <td align=\"center\">N/A  </td>,\n",
       " <td align=\"center\">9.6  </td>,\n",
       " <td align=\"center\">N/A  </td>,\n",
       " <td align=\"center\">1.29m</td>,\n",
       " <td align=\"center\" width=\"75\">21st Aug 07  </td>,\n",
       " <td align=\"center\" width=\"75\">20th Jul 18</td>]"
      ]
     },
     "execution_count": 41,
     "metadata": {},
     "output_type": "execute_result"
    }
   ],
   "source": []
  },
  {
   "cell_type": "code",
   "execution_count": 42,
   "metadata": {},
   "outputs": [],
   "source": []
  },
  {
   "cell_type": "code",
   "execution_count": 43,
   "metadata": {},
   "outputs": [
    {
     "data": {
      "text/plain": [
       "'The Legend of Zelda: A Link to the Past'"
      ]
     },
     "execution_count": 43,
     "metadata": {},
     "output_type": "execute_result"
    }
   ],
   "source": []
  },
  {
   "cell_type": "code",
   "execution_count": null,
   "metadata": {},
   "outputs": [],
   "source": []
  }
 ],
 "metadata": {
  "kernelspec": {
   "display_name": "Python 3",
   "language": "python",
   "name": "python3"
  },
  "language_info": {
   "codemirror_mode": {
    "name": "ipython",
    "version": 3
   },
   "file_extension": ".py",
   "mimetype": "text/x-python",
   "name": "python",
   "nbconvert_exporter": "python",
   "pygments_lexer": "ipython3",
   "version": "3.7.4"
  }
 },
 "nbformat": 4,
 "nbformat_minor": 2
}
