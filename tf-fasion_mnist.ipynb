{
 "cells": [
  {
   "cell_type": "code",
   "execution_count": 2,
   "metadata": {},
   "outputs": [],
   "source": [
    "%matplotlib inline\n",
    "import numpy as np\n",
    "import matplotlib.pyplot as plt"
   ]
  },
  {
   "cell_type": "code",
   "execution_count": 3,
   "metadata": {},
   "outputs": [],
   "source": [
    "import tensorflow as tf"
   ]
  },
  {
   "cell_type": "code",
   "execution_count": 4,
   "metadata": {},
   "outputs": [],
   "source": [
    "from tensorflow.keras.datasets import fashion_mnist"
   ]
  },
  {
   "cell_type": "code",
   "execution_count": 5,
   "metadata": {},
   "outputs": [],
   "source": [
    "(x_train, y_train), (x_test, y_test) = fashion_mnist.load_data()"
   ]
  },
  {
   "cell_type": "code",
   "execution_count": 10,
   "metadata": {},
   "outputs": [
    {
     "data": {
      "text/plain": [
       "60000"
      ]
     },
     "execution_count": 10,
     "metadata": {},
     "output_type": "execute_result"
    }
   ],
   "source": [
    "len(y_train)"
   ]
  },
  {
   "cell_type": "code",
   "execution_count": 7,
   "metadata": {},
   "outputs": [
    {
     "data": {
      "text/plain": [
       "10000"
      ]
     },
     "execution_count": 7,
     "metadata": {},
     "output_type": "execute_result"
    }
   ],
   "source": [
    "len(x_test)"
   ]
  },
  {
   "cell_type": "code",
   "execution_count": 11,
   "metadata": {},
   "outputs": [],
   "source": [
    "class_names = ['T-shirt/top', 'Trouser', 'Pullover', 'Dress', 'Coat',\n",
    "               'Sandal', 'Shirt', 'Sneaker', 'Bag', 'Ankle boot']"
   ]
  },
  {
   "cell_type": "code",
   "execution_count": 16,
   "metadata": {},
   "outputs": [
    {
     "name": "stdout",
     "output_type": "stream",
     "text": [
      "(60000, 784)\n"
     ]
    }
   ],
   "source": [
    "print(x_train.shape)"
   ]
  },
  {
   "cell_type": "code",
   "execution_count": 17,
   "metadata": {},
   "outputs": [
    {
     "name": "stdout",
     "output_type": "stream",
     "text": [
      "(60000, 10)\n"
     ]
    }
   ],
   "source": [
    "print(y_train.shape)"
   ]
  },
  {
   "cell_type": "markdown",
   "metadata": {},
   "source": [
    "## 將cmap調成藍色"
   ]
  },
  {
   "cell_type": "code",
   "execution_count": 14,
   "metadata": {},
   "outputs": [
    {
     "name": "stdout",
     "output_type": "stream",
     "text": [
      "這是 Sandal\n"
     ]
    },
    {
     "data": {
      "image/png": "[encoded data removed]",
      "text/plain": [
       "<Figure size 432x288 with 1 Axes>"
      ]
     },
     "metadata": {
      "needs_background": "light"
     },
     "output_type": "display_data"
    }
   ],
   "source": [
    "n = 120\n",
    "print('這是', class_names[y_train[n]])\n",
    "plt.imshow(x_train[n],cmap='Blues');"
   ]
  },
  {
   "cell_type": "code",
   "execution_count": 15,
   "metadata": {},
   "outputs": [
    {
     "data": {
      "image/png": "[encoded data removed]",
      "text/plain": [
       "<Figure size 432x288 with 5 Axes>"
      ]
     },
     "metadata": {},
     "output_type": "display_data"
    }
   ],
   "source": [
    "pick = np.random.choice(60000, 5, replace=False)\n",
    "\n",
    "for i in range(5):\n",
    "    n = pick[i]\n",
    "    ax = plt.subplot(151+i)\n",
    "    ax.set_xticks([])\n",
    "    ax.set_yticks([])\n",
    "    ax.set_title(class_names[y_train[n]], fontsize=10)\n",
    "    plt.imshow(x_train[n], cmap='Blues')"
   ]
  },
  {
   "cell_type": "code",
   "execution_count": 12,
   "metadata": {},
   "outputs": [],
   "source": [
    "x_train=x_train/255\n",
    "x_test=x_test/255\n",
    "x_train=x_train.reshape(60000,784)\n",
    "x_test=x_test.reshape(10000,784)"
   ]
  },
  {
   "cell_type": "code",
   "execution_count": 14,
   "metadata": {},
   "outputs": [],
   "source": [
    "from tensorflow.keras.utils import to_categorical"
   ]
  },
  {
   "cell_type": "code",
   "execution_count": 57,
   "metadata": {},
   "outputs": [
    {
     "data": {
      "text/plain": [
       "5"
      ]
     },
     "execution_count": 57,
     "metadata": {},
     "output_type": "execute_result"
    }
   ],
   "source": [
    "y_train[12]"
   ]
  },
  {
   "cell_type": "code",
   "execution_count": 15,
   "metadata": {},
   "outputs": [],
   "source": [
    "y_train=to_categorical(y_train,10)\n",
    "y_test=to_categorical(y_train,10)"
   ]
  },
  {
   "cell_type": "code",
   "execution_count": 59,
   "metadata": {},
   "outputs": [
    {
     "data": {
      "text/plain": [
       "array([0., 0., 0., 0., 0., 1., 0., 0., 0., 0.], dtype=float32)"
      ]
     },
     "execution_count": 59,
     "metadata": {},
     "output_type": "execute_result"
    }
   ],
   "source": [
    "y_train[12]"
   ]
  },
  {
   "cell_type": "code",
   "execution_count": 60,
   "metadata": {},
   "outputs": [],
   "source": [
    "from tensorflow.keras.models import Sequential\n",
    "from tensorflow.keras.layers import Dense\n",
    "from tensorflow.keras.optimizers import SGD"
   ]
  },
  {
   "cell_type": "markdown",
   "metadata": {},
   "source": [
    "## 調整層數及維度"
   ]
  },
  {
   "cell_type": "code",
   "execution_count": 1,
   "metadata": {},
   "outputs": [
    {
     "ename": "NameError",
     "evalue": "name 'Sequential' is not defined",
     "output_type": "error",
     "traceback": [
      "\u001b[1;31m---------------------------------------------------------------------------\u001b[0m",
      "\u001b[1;31mNameError\u001b[0m                                 Traceback (most recent call last)",
      "\u001b[1;32m<ipython-input-1-c55a6a4f131f>\u001b[0m in \u001b[0;36m<module>\u001b[1;34m\u001b[0m\n\u001b[1;32m----> 1\u001b[1;33m \u001b[0mmodels\u001b[0m\u001b[1;33m=\u001b[0m\u001b[0mSequential\u001b[0m\u001b[1;33m(\u001b[0m\u001b[1;33m)\u001b[0m\u001b[1;33m\u001b[0m\u001b[1;33m\u001b[0m\u001b[0m\n\u001b[0m\u001b[0;32m      2\u001b[0m \u001b[0mmodels\u001b[0m\u001b[1;33m.\u001b[0m\u001b[0madd\u001b[0m\u001b[1;33m(\u001b[0m\u001b[0mDense\u001b[0m\u001b[1;33m(\u001b[0m\u001b[1;36m111\u001b[0m\u001b[1;33m,\u001b[0m\u001b[0minput_dim\u001b[0m\u001b[1;33m=\u001b[0m\u001b[1;36m784\u001b[0m\u001b[1;33m,\u001b[0m\u001b[0mactivation\u001b[0m\u001b[1;33m=\u001b[0m\u001b[1;34m'relu'\u001b[0m\u001b[1;33m)\u001b[0m\u001b[1;33m)\u001b[0m\u001b[1;33m\u001b[0m\u001b[1;33m\u001b[0m\u001b[0m\n\u001b[0;32m      3\u001b[0m \u001b[0mmodels\u001b[0m\u001b[1;33m.\u001b[0m\u001b[0madd\u001b[0m\u001b[1;33m(\u001b[0m\u001b[0mDense\u001b[0m\u001b[1;33m(\u001b[0m\u001b[1;36m111\u001b[0m\u001b[1;33m,\u001b[0m\u001b[0mactivation\u001b[0m\u001b[1;33m=\u001b[0m\u001b[1;34m'relu'\u001b[0m\u001b[1;33m)\u001b[0m\u001b[1;33m)\u001b[0m\u001b[1;33m\u001b[0m\u001b[1;33m\u001b[0m\u001b[0m\n\u001b[0;32m      4\u001b[0m \u001b[0mmodels\u001b[0m\u001b[1;33m.\u001b[0m\u001b[0madd\u001b[0m\u001b[1;33m(\u001b[0m\u001b[0mDense\u001b[0m\u001b[1;33m(\u001b[0m\u001b[1;36m1\u001b[0m\u001b[1;33m,\u001b[0m\u001b[0mactivation\u001b[0m\u001b[1;33m=\u001b[0m\u001b[1;34m'softmax'\u001b[0m\u001b[1;33m)\u001b[0m\u001b[1;33m)\u001b[0m\u001b[1;33m\u001b[0m\u001b[1;33m\u001b[0m\u001b[0m\n",
      "\u001b[1;31mNameError\u001b[0m: name 'Sequential' is not defined"
     ]
    }
   ],
   "source": [
    "models=Sequential()\n",
    "models.add(Dense(111,input_dim=784,activation='relu'))\n",
    "models.add(Dense(111,activation='relu'))\n",
    "models.add(Dense(10,activation='softmax'))"
   ]
  },
  {
   "cell_type": "code",
   "execution_count": 62,
   "metadata": {},
   "outputs": [],
   "source": [
    "models.compile(loss='mse',optimizer=SGD(lr=0.087),metrics=['accuracy'])"
   ]
  },
  {
   "cell_type": "code",
   "execution_count": 63,
   "metadata": {},
   "outputs": [
    {
     "name": "stdout",
     "output_type": "stream",
     "text": [
      "Model: \"sequential_3\"\n",
      "_________________________________________________________________\n",
      "Layer (type)                 Output Shape              Param #   \n",
      "=================================================================\n",
      "dense_3 (Dense)              (None, 111)               87135     \n",
      "_________________________________________________________________\n",
      "dense_4 (Dense)              (None, 111)               12432     \n",
      "_________________________________________________________________\n",
      "dense_5 (Dense)              (None, 10)                1120      \n",
      "=================================================================\n",
      "Total params: 100,687\n",
      "Trainable params: 100,687\n",
      "Non-trainable params: 0\n",
      "_________________________________________________________________\n"
     ]
    }
   ],
   "source": [
    "models.summary()"
   ]
  },
  {
   "cell_type": "code",
   "execution_count": 64,
   "metadata": {},
   "outputs": [
    {
     "data": {
      "text/plain": [
       "87135"
      ]
     },
     "execution_count": 64,
     "metadata": {},
     "output_type": "execute_result"
    }
   ],
   "source": [
    "111*784+111"
   ]
  },
  {
   "cell_type": "markdown",
   "metadata": {},
   "source": [
    "## 調整一次訓練所用的資料量及訓練次數"
   ]
  },
  {
   "cell_type": "code",
   "execution_count": 65,
   "metadata": {},
   "outputs": [
    {
     "name": "stdout",
     "output_type": "stream",
     "text": [
      "Train on 60000 samples\n",
      "Epoch 1/23\n",
      "60000/60000 [==============================] - 19s 320us/sample - loss: 0.0683 - accuracy: 0.4897\n",
      "Epoch 2/23\n",
      "60000/60000 [==============================] - 5s 81us/sample - loss: 0.0443 - accuracy: 0.6802\n",
      "Epoch 3/23\n",
      "60000/60000 [==============================] - 5s 81us/sample - loss: 0.0373 - accuracy: 0.7420\n",
      "Epoch 4/23\n",
      "60000/60000 [==============================] - 5s 82us/sample - loss: 0.0329 - accuracy: 0.7840\n",
      "Epoch 5/23\n",
      "60000/60000 [==============================] - 5s 84us/sample - loss: 0.0299 - accuracy: 0.8042\n",
      "Epoch 6/23\n",
      "60000/60000 [==============================] - 5s 84us/sample - loss: 0.0280 - accuracy: 0.8167\n",
      "Epoch 7/23\n",
      "60000/60000 [==============================] - 5s 85us/sample - loss: 0.0266 - accuracy: 0.8245\n",
      "Epoch 8/23\n",
      "60000/60000 [==============================] - 5s 82us/sample - loss: 0.0256 - accuracy: 0.8310\n",
      "Epoch 9/23\n",
      "60000/60000 [==============================] - 5s 82us/sample - loss: 0.0248 - accuracy: 0.8339\n",
      "Epoch 10/23\n",
      "60000/60000 [==============================] - 5s 82us/sample - loss: 0.0241 - accuracy: 0.8393\n",
      "Epoch 11/23\n",
      "60000/60000 [==============================] - 5s 82us/sample - loss: 0.0236 - accuracy: 0.8417\n",
      "Epoch 12/23\n",
      "60000/60000 [==============================] - 5s 86us/sample - loss: 0.0231 - accuracy: 0.8448\n",
      "Epoch 13/23\n",
      "60000/60000 [==============================] - 5s 83us/sample - loss: 0.0227 - accuracy: 0.8476\n",
      "Epoch 14/23\n",
      "60000/60000 [==============================] - 5s 83us/sample - loss: 0.0223 - accuracy: 0.8504\n",
      "Epoch 15/23\n",
      "60000/60000 [==============================] - 5s 83us/sample - loss: 0.0221 - accuracy: 0.8516\n",
      "Epoch 16/23\n",
      "60000/60000 [==============================] - 5s 83us/sample - loss: 0.0218 - accuracy: 0.8536\n",
      "Epoch 17/23\n",
      "60000/60000 [==============================] - 5s 84us/sample - loss: 0.0215 - accuracy: 0.8551\n",
      "Epoch 18/23\n",
      "60000/60000 [==============================] - 5s 86us/sample - loss: 0.0213 - accuracy: 0.8569\n",
      "Epoch 19/23\n",
      "60000/60000 [==============================] - 5s 83us/sample - loss: 0.0210 - accuracy: 0.8585\n",
      "Epoch 20/23\n",
      "60000/60000 [==============================] - 5s 82us/sample - loss: 0.0209 - accuracy: 0.8594\n",
      "Epoch 21/23\n",
      "60000/60000 [==============================] - 5s 84us/sample - loss: 0.0206 - accuracy: 0.8614\n",
      "Epoch 22/23\n",
      "60000/60000 [==============================] - 5s 84us/sample - loss: 0.0205 - accuracy: 0.8615\n",
      "Epoch 23/23\n",
      "60000/60000 [==============================] - 5s 83us/sample - loss: 0.0203 - accuracy: 0.8630\n"
     ]
    },
    {
     "data": {
      "text/plain": [
       "<tensorflow.python.keras.callbacks.History at 0x1811f0bbe88>"
      ]
     },
     "execution_count": 65,
     "metadata": {},
     "output_type": "execute_result"
    }
   ],
   "source": [
    "models.fit(x_train,y_train,batch_size=87,epochs=23)"
   ]
  },
  {
   "cell_type": "markdown",
   "metadata": {},
   "source": [
    "## 原本想重新調整看相關性，結果他直接照已經訓練過的精確度去訓練，但跑一次要跑好久，就不想理他了，下次會想辦法去做比較(如：restart或換activation函數。"
   ]
  },
  {
   "cell_type": "code",
   "execution_count": 66,
   "metadata": {},
   "outputs": [
    {
     "name": "stdout",
     "output_type": "stream",
     "text": [
      "Train on 60000 samples\n",
      "Epoch 1/15\n",
      "60000/60000 [==============================] - 4s 71us/sample - loss: 0.0201 - accuracy: 0.8648\n",
      "Epoch 2/15\n",
      "60000/60000 [==============================] - 4s 70us/sample - loss: 0.0200 - accuracy: 0.8652\n",
      "Epoch 3/15\n",
      "60000/60000 [==============================] - 5s 77us/sample - loss: 0.0198 - accuracy: 0.8670\n",
      "Epoch 4/15\n",
      "60000/60000 [==============================] - 4s 71us/sample - loss: 0.0197 - accuracy: 0.8676\n",
      "Epoch 5/15\n",
      "60000/60000 [==============================] - 5s 79us/sample - loss: 0.0196 - accuracy: 0.8681\n",
      "Epoch 6/15\n",
      "60000/60000 [==============================] - 4s 72us/sample - loss: 0.0195 - accuracy: 0.8691\n",
      "Epoch 7/15\n",
      "60000/60000 [==============================] - 4s 71us/sample - loss: 0.0194 - accuracy: 0.8701\n",
      "Epoch 8/15\n",
      "60000/60000 [==============================] - 4s 72us/sample - loss: 0.0193 - accuracy: 0.8699\n",
      "Epoch 9/15\n",
      "60000/60000 [==============================] - 4s 71us/sample - loss: 0.0192 - accuracy: 0.8712\n",
      "Epoch 10/15\n",
      "60000/60000 [==============================] - 4s 71us/sample - loss: 0.0191 - accuracy: 0.8717\n",
      "Epoch 11/15\n",
      "60000/60000 [==============================] - 4s 72us/sample - loss: 0.0190 - accuracy: 0.8724\n",
      "Epoch 12/15\n",
      "60000/60000 [==============================] - 4s 71us/sample - loss: 0.0189 - accuracy: 0.8736\n",
      "Epoch 13/15\n",
      "60000/60000 [==============================] - 4s 71us/sample - loss: 0.0188 - accuracy: 0.8743\n",
      "Epoch 14/15\n",
      "60000/60000 [==============================] - 4s 71us/sample - loss: 0.0187 - accuracy: 0.8742\n",
      "Epoch 15/15\n",
      "60000/60000 [==============================] - 4s 72us/sample - loss: 0.0186 - accuracy: 0.8754\n"
     ]
    },
    {
     "data": {
      "text/plain": [
       "<tensorflow.python.keras.callbacks.History at 0x181254e2d08>"
      ]
     },
     "execution_count": 66,
     "metadata": {},
     "output_type": "execute_result"
    }
   ],
   "source": [
    "models.fit(x_train,y_train,batch_size=111,epochs=15)"
   ]
  },
  {
   "cell_type": "code",
   "execution_count": 18,
   "metadata": {},
   "outputs": [
    {
     "ename": "NameError",
     "evalue": "name 'models' is not defined",
     "output_type": "error",
     "traceback": [
      "\u001b[1;31m---------------------------------------------------------------------------\u001b[0m",
      "\u001b[1;31mNameError\u001b[0m                                 Traceback (most recent call last)",
      "\u001b[1;32m<ipython-input-18-eaa9d51e6ffb>\u001b[0m in \u001b[0;36m<module>\u001b[1;34m\u001b[0m\n\u001b[1;32m----> 1\u001b[1;33m \u001b[0mresult\u001b[0m\u001b[1;33m=\u001b[0m\u001b[0mmodels\u001b[0m\u001b[1;33m.\u001b[0m\u001b[0mpredict_classes\u001b[0m\u001b[1;33m(\u001b[0m\u001b[0mx_test\u001b[0m\u001b[1;33m)\u001b[0m\u001b[1;33m\u001b[0m\u001b[1;33m\u001b[0m\u001b[0m\n\u001b[0m",
      "\u001b[1;31mNameError\u001b[0m: name 'models' is not defined"
     ]
    }
   ],
   "source": [
    "result=models.predict_classes(x_test)"
   ]
  },
  {
   "cell_type": "code",
   "execution_count": 72,
   "metadata": {},
   "outputs": [
    {
     "name": "stdout",
     "output_type": "stream",
     "text": [
      "神經網路說是: Coat\n"
     ]
    },
    {
     "data": {
      "text/plain": [
       "<matplotlib.image.AxesImage at 0x18125b88ac8>"
      ]
     },
     "execution_count": 72,
     "metadata": {},
     "output_type": "execute_result"
    },
    {
     "data": {
      "image/png": "[encoded data removed]",
      "text/plain": [
       "<Figure size 432x288 with 1 Axes>"
      ]
     },
     "metadata": {
      "needs_background": "light"
     },
     "output_type": "display_data"
    }
   ],
   "source": [
    "n=1234\n",
    "print('神經網路說是:',class_names[result[]])\n",
    "plt.imshow(x_test[n].reshape(28,28),cmap='Greys')"
   ]
  },
  {
   "cell_type": "markdown",
   "metadata": {},
   "source": [
    "# 下方是將預測結果改為互動式"
   ]
  },
  {
   "cell_type": "code",
   "execution_count": 74,
   "metadata": {},
   "outputs": [],
   "source": [
    "def ans(n):\n",
    "    print('神經網路說是:',class_names[result[n]])\n",
    "    plt.imshow(x_test[n].reshape(28,28),cmap='Greys')"
   ]
  },
  {
   "cell_type": "code",
   "execution_count": 75,
   "metadata": {},
   "outputs": [],
   "source": [
    "from ipywidgets import interact"
   ]
  },
  {
   "cell_type": "code",
   "execution_count": 78,
   "metadata": {},
   "outputs": [
    {
     "data": {
      "application/vnd.jupyter.widget-view+json": {
       "model_id": "aa460f16fd824173be078749def79e13",
       "version_major": 2,
       "version_minor": 0
      },
      "text/plain": [
       "interactive(children=(IntSlider(value=5000, description='n', max=9999, min=1), Output()), _dom_classes=('widge…"
      ]
     },
     "metadata": {},
     "output_type": "display_data"
    },
    {
     "data": {
      "text/plain": [
       "<function __main__.ans(n)>"
      ]
     },
     "execution_count": 78,
     "metadata": {},
     "output_type": "execute_result"
    }
   ],
   "source": [
    "interact(ans,n=(1,9999))"
   ]
  },
  {
   "cell_type": "code",
   "execution_count": null,
   "metadata": {},
   "outputs": [],
   "source": []
  }
 ],
 "metadata": {
  "kernelspec": {
   "display_name": "Python 3",
   "language": "python",
   "name": "python3"
  },
  "language_info": {
   "codemirror_mode": {
    "name": "ipython",
    "version": 3
   },
   "file_extension": ".py",
   "mimetype": "text/x-python",
   "name": "python",
   "nbconvert_exporter": "python",
   "pygments_lexer": "ipython3",
   "version": "3.7.4"
  }
 },
 "nbformat": 4,
 "nbformat_minor": 2
}
