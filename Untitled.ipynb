{
 "cells": [
  {
   "cell_type": "code",
   "execution_count": 9,
   "metadata": {},
   "outputs": [],
   "source": [
    "import urllib.request  \n",
    "from bs4 import BeautifulSoup  \n",
    "import requests\n",
    "import re\n"
   ]
  },
  {
   "cell_type": "code",
   "execution_count": 10,
   "metadata": {},
   "outputs": [],
   "source": [
    "num=[]\n",
    "lianjie=[]\n",
    "url = \"https://blog.csdn.net/zjy18886018024?t=1\"\n",
    "con=requests.get(url).text\n",
    "content = urllib.request.urlopen(url).read()\n",
    "soup=BeautifulSoup(content,\"html.parser\")  \n",
    "top=soup.find_all(attrs={\"class\":\"text-truncate\"})\n",
    "lianji=re.findall('href=\"(.*?details\\/\\d{8})',con)"
   ]
  },
  {
   "cell_type": "code",
   "execution_count": 13,
   "metadata": {},
   "outputs": [
    {
     "name": "stdout",
     "output_type": "stream",
     "text": [
      "Python暴力破解wifi密码C语言中选择排序和冒泡排序C语言中选择排序和冒泡排序Python暴力破解wifi密码Python暴力破解wifi密码\n"
     ]
    }
   ],
   "source": [
    "i=0  \n",
    "nu=[]  \n",
    "while i<len(top):  \n",
    "    num.append(top[i].get_text())  \n",
    "    nu.append(num[i].replace(\"原\",\"\"))  \n",
    "    i=i+1  \n",
    "j=0\n",
    "strc=[]\n",
    "while j<len(nu):  \n",
    "   # print(nu[j].strip(),lianji[i])\n",
    "    strc.append(nu[j].strip())\n",
    "    j=j+1\n",
    "m=0\n",
    "tops=\"\"\n",
    "while m<len(strc):\n",
    "    tops+=str(strc[m])\n",
    "    m=m+1\n",
    "print(tops)\n"
   ]
  },
  {
   "cell_type": "code",
   "execution_count": 14,
   "metadata": {},
   "outputs": [
    {
     "data": {
      "text/plain": [
       "[<a class=\"title text-truncate\" data-report-click='{\"mod\":\"popu_542\",\"dest\":\"https://blog.csdn.net/zjy18886018024/article/details/84846843#comments\",\"ab\":\"new\"}' href=\"https://blog.csdn.net/zjy18886018024/article/details/84846843#comments\" target=\"_blank\">Python暴力破解wifi密码</a>,\n",
       " <a class=\"title text-truncate\" data-report-click='{\"mod\":\"popu_542\",\"dest\":\"https://blog.csdn.net/zjy18886018024/article/details/80718713#comments\",\"ab\":\"new\"}' href=\"https://blog.csdn.net/zjy18886018024/article/details/80718713#comments\" target=\"_blank\">C语言中选择排序和冒泡排序</a>,\n",
       " <a class=\"title text-truncate\" data-report-click='{\"mod\":\"popu_542\",\"dest\":\"https://blog.csdn.net/zjy18886018024/article/details/80718713#comments\",\"ab\":\"new\"}' href=\"https://blog.csdn.net/zjy18886018024/article/details/80718713#comments\" target=\"_blank\">C语言中选择排序和冒泡排序</a>,\n",
       " <a class=\"title text-truncate\" data-report-click='{\"mod\":\"popu_542\",\"dest\":\"https://blog.csdn.net/zjy18886018024/article/details/84846843#comments\",\"ab\":\"new\"}' href=\"https://blog.csdn.net/zjy18886018024/article/details/84846843#comments\" target=\"_blank\">Python暴力破解wifi密码</a>,\n",
       " <a class=\"title text-truncate\" data-report-click='{\"mod\":\"popu_542\",\"dest\":\"https://blog.csdn.net/zjy18886018024/article/details/84846843#comments\",\"ab\":\"new\"}' href=\"https://blog.csdn.net/zjy18886018024/article/details/84846843#comments\" target=\"_blank\">Python暴力破解wifi密码</a>]"
      ]
     },
     "execution_count": 14,
     "metadata": {},
     "output_type": "execute_result"
    }
   ],
   "source": [
    "top"
   ]
  },
  {
   "cell_type": "code",
   "execution_count": null,
   "metadata": {},
   "outputs": [],
   "source": []
  }
 ],
 "metadata": {
  "kernelspec": {
   "display_name": "Python 3",
   "language": "python",
   "name": "python3"
  },
  "language_info": {
   "codemirror_mode": {
    "name": "ipython",
    "version": 3
   },
   "file_extension": ".py",
   "mimetype": "text/x-python",
   "name": "python",
   "nbconvert_exporter": "python",
   "pygments_lexer": "ipython3",
   "version": "3.7.4"
  }
 },
 "nbformat": 4,
 "nbformat_minor": 4
}
