{
 "cells": [
  {
   "cell_type": "code",
   "execution_count": 1,
   "metadata": {},
   "outputs": [],
   "source": [
    "from bs4 import BeautifulSoup\n",
    "import requests"
   ]
  },
  {
   "cell_type": "code",
   "execution_count": 2,
   "metadata": {},
   "outputs": [],
   "source": [
    "urls = ['https://www.yrw.com/products/list-direct-all-performance-1-createTimeDesc-{}.html'.format(str(i)) for i in range(1,11)]"
   ]
  },
  {
   "cell_type": "code",
   "execution_count": 6,
   "metadata": {},
   "outputs": [
    {
     "name": "stdout",
     "output_type": "stream",
     "text": [
      "['https://www.yrw.com/products/list-direct-all-performance-1-createTimeDesc-1.html', 'https://www.yrw.com/products/list-direct-all-performance-1-createTimeDesc-2.html', 'https://www.yrw.com/products/list-direct-all-performance-1-createTimeDesc-3.html', 'https://www.yrw.com/products/list-direct-all-performance-1-createTimeDesc-4.html', 'https://www.yrw.com/products/list-direct-all-performance-1-createTimeDesc-5.html', 'https://www.yrw.com/products/list-direct-all-performance-1-createTimeDesc-6.html', 'https://www.yrw.com/products/list-direct-all-performance-1-createTimeDesc-7.html', 'https://www.yrw.com/products/list-direct-all-performance-1-createTimeDesc-8.html', 'https://www.yrw.com/products/list-direct-all-performance-1-createTimeDesc-9.html', 'https://www.yrw.com/products/list-direct-all-performance-1-createTimeDesc-10.html']\n"
     ]
    }
   ],
   "source": [
    "print(urls)"
   ]
  },
  {
   "cell_type": "code",
   "execution_count": 4,
   "metadata": {},
   "outputs": [],
   "source": [
    "\n"
   ]
  },
  {
   "cell_type": "code",
   "execution_count": null,
   "metadata": {},
   "outputs": [],
   "source": []
  }
 ],
 "metadata": {
  "kernelspec": {
   "display_name": "Python 3",
   "language": "python",
   "name": "python3"
  },
  "language_info": {
   "codemirror_mode": {
    "name": "ipython",
    "version": 3
   },
   "file_extension": ".py",
   "mimetype": "text/x-python",
   "name": "python",
   "nbconvert_exporter": "python",
   "pygments_lexer": "ipython3",
   "version": "3.7.4"
  }
 },
 "nbformat": 4,
 "nbformat_minor": 4
}
