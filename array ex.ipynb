{
 "cells": [
  {
   "cell_type": "code",
   "execution_count": 4,
   "metadata": {},
   "outputs": [],
   "source": [
    "%matplotlib inline\n",
    "import numpy as np\n",
    "import matplotlib.pyplot as plt"
   ]
  },
  {
   "cell_type": "code",
   "execution_count": 6,
   "metadata": {},
   "outputs": [
    {
     "name": "stdout",
     "output_type": "stream",
     "text": [
      "[  56.          168.44897959  280.89795918  393.34693878  505.79591837\n",
      "  618.24489796  730.69387755  843.14285714  955.59183673 1068.04081633\n",
      " 1180.48979592 1292.93877551 1405.3877551  1517.83673469 1630.28571429\n",
      " 1742.73469388 1855.18367347 1967.63265306 2080.08163265 2192.53061224\n",
      " 2304.97959184 2417.42857143 2529.87755102 2642.32653061 2754.7755102\n",
      " 2867.2244898  2979.67346939 3092.12244898 3204.57142857 3317.02040816\n",
      " 3429.46938776 3541.91836735 3654.36734694 3766.81632653 3879.26530612\n",
      " 3991.71428571 4104.16326531 4216.6122449  4329.06122449 4441.51020408\n",
      " 4553.95918367 4666.40816327 4778.85714286 4891.30612245 5003.75510204\n",
      " 5116.20408163 5228.65306122 5341.10204082 5453.55102041 5566.        ]\n"
     ]
    },
    {
     "data": {
      "text/plain": [
       "array([56.])"
      ]
     },
     "execution_count": 6,
     "metadata": {},
     "output_type": "execute_result"
    }
   ],
   "source": [
    "五五六六 = np.linspace(56,5566)\n",
    "print(五五六六)\n",
    "五五六六[五五六六<87]"
   ]
  },
  {
   "cell_type": "code",
   "execution_count": null,
   "metadata": {},
   "outputs": [],
   "source": []
  }
 ],
 "metadata": {
  "kernelspec": {
   "display_name": "Python 3",
   "language": "python",
   "name": "python3"
  },
  "language_info": {
   "codemirror_mode": {
    "name": "ipython",
    "version": 3
   },
   "file_extension": ".py",
   "mimetype": "text/x-python",
   "name": "python",
   "nbconvert_exporter": "python",
   "pygments_lexer": "ipython3",
   "version": "3.7.4"
  }
 },
 "nbformat": 4,
 "nbformat_minor": 2
}
