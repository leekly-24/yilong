{
 "cells": [
  {
   "cell_type": "code",
   "execution_count": 1,
   "metadata": {},
   "outputs": [],
   "source": [
    "%matplotlib inline\n",
    "import numpy as np\n",
    "import matplotlib.pyplot as plt\n",
    "import pandas as pd\n",
    "import tensorflow as tf"
   ]
  },
  {
   "cell_type": "code",
   "execution_count": 3,
   "metadata": {},
   "outputs": [],
   "source": [
    "x=pd.read_excel(\"GAMEnew.xlsx\")\n",
    "x1 = x.platform\n",
    "x2 = x.Genre\n",
    "x3 = x.Publisher\n"
   ]
  },
  {
   "cell_type": "code",
   "execution_count": 4,
   "metadata": {},
   "outputs": [],
   "source": [
    "from tensorflow.keras.utils import to_categorical\n",
    "x1 = to_categorical(x1, 31)\n",
    "x2 = to_categorical(x2, 13)\n",
    "x3 = to_categorical(x3, 572)\n",
    "x=np.concatenate((x1,x2,x3 ), axis=1)"
   ]
  },
  {
   "cell_type": "code",
   "execution_count": 5,
   "metadata": {},
   "outputs": [],
   "source": [
    "df = pd.read_excel(\"ynew(0-10).xlsx\")\n",
    "y = df.values\n",
    "y = to_categorical(y,11)"
   ]
  },
  {
   "cell_type": "code",
   "execution_count": 6,
   "metadata": {},
   "outputs": [],
   "source": [
    "x_train=x[0:13500]\n",
    "y_train=y[0:13500]\n",
    "x_test=x[13500:]\n",
    "y_test=y[13500:]"
   ]
  },
  {
   "cell_type": "code",
   "execution_count": 18,
   "metadata": {},
   "outputs": [],
   "source": [
    "from tensorflow.keras.models import Sequential\n",
    "from tensorflow.keras.layers import Dense\n",
    "from tensorflow.keras.optimizers import SGD\n",
    "from tensorflow.keras.optimizers import Adam"
   ]
  },
  {
   "cell_type": "code",
   "execution_count": 67,
   "metadata": {},
   "outputs": [],
   "source": [
    "models=Sequential()\n",
    "models.add(Dense(100,input_dim=616,activation='relu'))\n",
    "models.add(Dense(100,input_dim=616,activation='relu'))\n",
    "models.add(Dense(100,input_dim=616,activation='relu'))\n",
    "models.add(Dense(11,activation='softmax'))"
   ]
  },
  {
   "cell_type": "code",
   "execution_count": 68,
   "metadata": {},
   "outputs": [],
   "source": [
    "models.compile(loss='mse',optimizer=Adam(lr=0.01),metrics=['accuracy'])"
   ]
  },
  {
   "cell_type": "code",
   "execution_count": 69,
   "metadata": {},
   "outputs": [
    {
     "name": "stdout",
     "output_type": "stream",
     "text": [
      "Model: \"sequential_10\"\n",
      "_________________________________________________________________\n",
      "Layer (type)                 Output Shape              Param #   \n",
      "=================================================================\n",
      "dense_24 (Dense)             (None, 100)               61700     \n",
      "_________________________________________________________________\n",
      "dense_25 (Dense)             (None, 100)               10100     \n",
      "_________________________________________________________________\n",
      "dense_26 (Dense)             (None, 100)               10100     \n",
      "_________________________________________________________________\n",
      "dense_27 (Dense)             (None, 11)                1111      \n",
      "=================================================================\n",
      "Total params: 83,011\n",
      "Trainable params: 83,011\n",
      "Non-trainable params: 0\n",
      "_________________________________________________________________\n"
     ]
    }
   ],
   "source": [
    "models.summary()"
   ]
  },
  {
   "cell_type": "code",
   "execution_count": 70,
   "metadata": {},
   "outputs": [
    {
     "name": "stdout",
     "output_type": "stream",
     "text": [
      "Train on 13500 samples\n",
      "Epoch 1/20\n",
      "13500/13500 [==============================] - 5s 387us/sample - loss: 0.0792 - accuracy: 0.1776\n",
      "Epoch 2/20\n",
      "13500/13500 [==============================] - 4s 276us/sample - loss: 0.0774 - accuracy: 0.2133\n",
      "Epoch 3/20\n",
      "13500/13500 [==============================] - 4s 280us/sample - loss: 0.0767 - accuracy: 0.2207\n",
      "Epoch 4/20\n",
      "13500/13500 [==============================] - 4s 279us/sample - loss: 0.0758 - accuracy: 0.2373\n",
      "Epoch 5/20\n",
      "13500/13500 [==============================] - 4s 278us/sample - loss: 0.0752 - accuracy: 0.2475\n",
      "Epoch 6/20\n",
      "13500/13500 [==============================] - 4s 282us/sample - loss: 0.0744 - accuracy: 0.2616\n",
      "Epoch 7/20\n",
      "13500/13500 [==============================] - 4s 277us/sample - loss: 0.0741 - accuracy: 0.2626\n",
      "Epoch 8/20\n",
      "13500/13500 [==============================] - 4s 283us/sample - loss: 0.0734 - accuracy: 0.2763\n",
      "Epoch 9/20\n",
      "13500/13500 [==============================] - 4s 276us/sample - loss: 0.0729 - accuracy: 0.2841\n",
      "Epoch 10/20\n",
      "13500/13500 [==============================] - 4s 286us/sample - loss: 0.0723 - accuracy: 0.2941\n",
      "Epoch 11/20\n",
      "13500/13500 [==============================] - 4s 278us/sample - loss: 0.0720 - accuracy: 0.2959\n",
      "Epoch 12/20\n",
      "13500/13500 [==============================] - 4s 283us/sample - loss: 0.0716 - accuracy: 0.3047\n",
      "Epoch 13/20\n",
      "13500/13500 [==============================] - 4s 278us/sample - loss: 0.0714 - accuracy: 0.3101\n",
      "Epoch 14/20\n",
      "13500/13500 [==============================] - 4s 276us/sample - loss: 0.0709 - accuracy: 0.3128\n",
      "Epoch 15/20\n",
      "13500/13500 [==============================] - 4s 280us/sample - loss: 0.0709 - accuracy: 0.3159\n",
      "Epoch 16/20\n",
      "13500/13500 [==============================] - 4s 277us/sample - loss: 0.0706 - accuracy: 0.3188\n",
      "Epoch 17/20\n",
      "13500/13500 [==============================] - 4s 282us/sample - loss: 0.0705 - accuracy: 0.3183\n",
      "Epoch 18/20\n",
      "13500/13500 [==============================] - 4s 279us/sample - loss: 0.0701 - accuracy: 0.3218\n",
      "Epoch 19/20\n",
      "13500/13500 [==============================] - 4s 281us/sample - loss: 0.0699 - accuracy: 0.3260\n",
      "Epoch 20/20\n",
      "13500/13500 [==============================] - 4s 289us/sample - loss: 0.0700 - accuracy: 0.3215\n"
     ]
    },
    {
     "data": {
      "text/plain": [
       "<tensorflow.python.keras.callbacks.History at 0x27f7451ff48>"
      ]
     },
     "execution_count": 70,
     "metadata": {},
     "output_type": "execute_result"
    }
   ],
   "source": [
    "models.fit(x_train,y_train,batch_size=20,epochs=20)"
   ]
  },
  {
   "cell_type": "code",
   "execution_count": 42,
   "metadata": {},
   "outputs": [
    {
     "name": "stdout",
     "output_type": "stream",
     "text": [
      "神經網路預測是: [9 6 0 ... 2 0 0]\n"
     ]
    }
   ],
   "source": [
    "result = models.predict_classes(x_test)\n",
    "print('神經網路預測是:', result)"
   ]
  },
  {
   "cell_type": "code",
   "execution_count": 43,
   "metadata": {},
   "outputs": [
    {
     "name": "stdout",
     "output_type": "stream",
     "text": [
      "3096/3096 [==============================] - 1s 213us/sample - loss: 0.0893 - accuracy: 0.2041\n"
     ]
    }
   ],
   "source": [
    "score = models.evaluate(x_test, y_test)"
   ]
  },
  {
   "cell_type": "code",
   "execution_count": 44,
   "metadata": {},
   "outputs": [
    {
     "name": "stdout",
     "output_type": "stream",
     "text": [
      "測試資料的正確率為 0.20413436\n"
     ]
    }
   ],
   "source": [
    "loss, acc = score\n",
    "print('測試資料的正確率為', acc)"
   ]
  },
  {
   "cell_type": "code",
   "execution_count": null,
   "metadata": {},
   "outputs": [],
   "source": []
  }
 ],
 "metadata": {
  "kernelspec": {
   "display_name": "Python 3",
   "language": "python",
   "name": "python3"
  },
  "language_info": {
   "codemirror_mode": {
    "name": "ipython",
    "version": 3
   },
   "file_extension": ".py",
   "mimetype": "text/x-python",
   "name": "python",
   "nbconvert_exporter": "python",
   "pygments_lexer": "ipython3",
   "version": "3.7.4"
  }
 },
 "nbformat": 4,
 "nbformat_minor": 4
}
