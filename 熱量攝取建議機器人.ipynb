{
 "cells": [
  {
   "cell_type": "code",
   "execution_count": null,
   "metadata": {},
   "outputs": [
    {
     "name": "stdout",
     "output_type": "stream",
     "text": [
      "請輸入你的身高及體重，我會計算出你的每日建議攝取熱量值\n"
     ]
    }
   ],
   "source": [
    "print(\"請輸入你的身高及體重，我會計算出你的每日建議攝取熱量值\")\n",
    "bh=input(\"身高為幾公分:\")\n",
    "bw=input(\"體重為幾公斤:\")\n",
    "h=float(bh)\n",
    "w=float(bw)\n",
    "BMI=w/((h/100)**2)\n",
    "bmi=round(BMI,1)\n",
    "print(bmi)\n",
    "if bmi<18.5:\n",
    "    kal=w*40\n",
    "if 18.5<=bmi<=24:\n",
    "    kal=w*35\n",
    "if bmi>24:\n",
    "    kal=w*30\n",
    "print(\"你的每日建議攝取熱量值為\"+str(kal)+\"大卡\")\n",
    "print(\"現在輸入你今天每餐已攝取的熱量，輸入0即進行加總\")\n",
    "x=input(\"你攝取了多少大卡:\")\n",
    "n=float(x)\n",
    "while float(x) !=0:\n",
    "    x=input(\"你今天還攝取了多少大卡:\")\n",
    "    n=float(x)+n\n",
    "    if kal-100<=n<=kal+100:\n",
    "        print(\"今日攝取量符合標準!\")\n",
    "    elif n<kal-100:\n",
    "        print(\"吃太少了 還要吃\"+str(kal-n)+\"大卡\")\n",
    "    else:\n",
    "        minute=(n-kal)/(400/60)\n",
    "        m=int(minute)\n",
    "        print(\"吃太多了...要跑\"+str(m)+\"分鐘\")\n"
   ]
  },
  {
   "cell_type": "markdown",
   "metadata": {},
   "source": [
    "## float將字串轉為浮點數(數字)"
   ]
  },
  {
   "cell_type": "code",
   "execution_count": 1,
   "metadata": {},
   "outputs": [
    {
     "name": "stdout",
     "output_type": "stream",
     "text": [
      "請輸入你的身高及體重，我會計算出你的每日建議攝取熱量值\n",
      "身高為幾公分:170\n",
      "體重為幾公斤:60\n",
      "170\n",
      "60\n",
      "170.0\n",
      "60.0\n"
     ]
    }
   ],
   "source": [
    "print(\"請輸入你的身高及體重，我會計算出你的每日建議攝取熱量值\")\n",
    "bh=input(\"身高為幾公分:\")\n",
    "bw=input(\"體重為幾公斤:\")\n",
    "h=float(bh)\n",
    "w=float(bw)\n",
    "print(bh)\n",
    "print(bw)\n",
    "print(h)\n",
    "print(w)"
   ]
  },
  {
   "cell_type": "markdown",
   "metadata": {},
   "source": [
    "## round將數字四捨五入到小數點後一位"
   ]
  },
  {
   "cell_type": "code",
   "execution_count": 3,
   "metadata": {},
   "outputs": [
    {
     "name": "stdout",
     "output_type": "stream",
     "text": [
      "20.761245674740486\n",
      "20.8\n"
     ]
    }
   ],
   "source": [
    "w=60\n",
    "h=170\n",
    "BMI=w/((h/100)**2)\n",
    "bmi=round(BMI,1)\n",
    "print(BMI)\n",
    "print(bmi)\n"
   ]
  },
  {
   "cell_type": "markdown",
   "metadata": {},
   "source": [
    "## 用+號連接字串 str將數字轉為字串"
   ]
  },
  {
   "cell_type": "code",
   "execution_count": 5,
   "metadata": {},
   "outputs": [
    {
     "name": "stdout",
     "output_type": "stream",
     "text": [
      "你的每日建議攝取熱量值為2100大卡\n"
     ]
    }
   ],
   "source": [
    "kal=2100\n",
    "print(\"你的每日建議攝取熱量值為\"+str(kal)+\"大卡\")"
   ]
  },
  {
   "cell_type": "markdown",
   "metadata": {},
   "source": [
    "## != 表示不等於 n代表加起來的熱量"
   ]
  },
  {
   "cell_type": "code",
   "execution_count": 6,
   "metadata": {},
   "outputs": [
    {
     "name": "stdout",
     "output_type": "stream",
     "text": [
      "現在輸入你今天每餐已攝取的熱量，輸入0即進行加總\n",
      "你攝取了多少大卡:50\n",
      "你今天還攝取了多少大卡:100\n",
      "150.0\n",
      "你今天還攝取了多少大卡:30\n",
      "180.0\n",
      "你今天還攝取了多少大卡:0\n",
      "180.0\n"
     ]
    }
   ],
   "source": [
    "print(\"現在輸入你今天每餐已攝取的熱量，輸入0即進行加總\")\n",
    "x=input(\"你攝取了多少大卡:\")\n",
    "n=float(x)\n",
    "while float(x) !=0:\n",
    "    x=input(\"你今天還攝取了多少大卡:\")\n",
    "    n=float(x)+n\n",
    "    print(n)\n",
    "    "
   ]
  },
  {
   "cell_type": "markdown",
   "metadata": {},
   "source": [
    "## n為攝取熱量 kal為應攝取熱量 \n",
    "### 400/60為跑步每分鐘消耗多少熱量\n",
    "### int將數字變成整數"
   ]
  },
  {
   "cell_type": "code",
   "execution_count": 8,
   "metadata": {},
   "outputs": [
    {
     "name": "stdout",
     "output_type": "stream",
     "text": [
      "吃太多了...要跑360分鐘\n"
     ]
    }
   ],
   "source": [
    "n=4500\n",
    "kal=2100\n",
    "minute=(n-kal)/(400/60)\n",
    "m=int(minute)\n",
    "print(\"吃太多了...要跑\"+str(m)+\"分鐘\")"
   ]
  }
 ],
 "metadata": {
  "kernelspec": {
   "display_name": "Python 3",
   "language": "python",
   "name": "python3"
  },
  "language_info": {
   "codemirror_mode": {
    "name": "ipython",
    "version": 3
   },
   "file_extension": ".py",
   "mimetype": "text/x-python",
   "name": "python",
   "nbconvert_exporter": "python",
   "pygments_lexer": "ipython3",
   "version": "3.7.4"
  }
 },
 "nbformat": 4,
 "nbformat_minor": 4
}
